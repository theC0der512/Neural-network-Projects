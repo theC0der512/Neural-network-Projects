{
 "cells": [
  {
   "cell_type": "markdown",
   "metadata": {},
   "source": [
    "## Linear Discriminant Analysis (LDA)"
   ]
  },
  {
   "cell_type": "code",
   "execution_count": null,
   "metadata": {
    "collapsed": true
   },
   "outputs": [],
   "source": [
    "\n",
    "\n",
    "LDAReg = LinearDiscriminantAnalysis (solver='lsqr', shrinkage=None, priors=None, n_components=2)\n",
    "LDAReg = LDAReg.fit(X_train,y_train_5)\n",
    "print(LDAReg)\n",
    "\n",
    "predL = LDAReg.predict(X_test)\n",
    "cm_mnist_L = pd.DataFrame(confusion_matrix(y_test_5, pred).T, index=LDAReg.classes_,\n",
    "                     columns=LDAReg.classes_)\n",
    "cm_mnist_L.index.name = 'Predicted'\n",
    "cm_mnist_L.columns.name = 'True'\n",
    "print(cm_mnist_L)\n",
    "print(classification_report(y_test_5, predL))"
   ]
  },
  {
   "cell_type": "code",
   "execution_count": null,
   "metadata": {
    "collapsed": true
   },
   "outputs": [],
   "source": [
    "conf_matrix_L = confusion_matrix(y_test_5,predL)\n",
    "print (conf_matrix_L)"
   ]
  },
  {
   "cell_type": "code",
   "execution_count": null,
   "metadata": {
    "collapsed": true
   },
   "outputs": [],
   "source": [
    "\n",
    "QDAReg = QuadraticDiscriminantAnalysis (priors= None)\n",
    "QDAReg = QDAReg.fit(X_train,y_train_5)\n",
    "print(QDAReg)\n",
    "\n",
    "predQ = QDAReg.predict(X_test)\n",
    "cm_mnist_Q = pd.DataFrame(confusion_matrix(y_test_5, predQ).T, index=QDAReg.classes_,\n",
    "                     columns=QDAReg.classes_)\n",
    "cm_mnist_Q.index.name = 'Predicted'\n",
    "cm_mnist_Q.columns.name = 'True'\n",
    "print(cm_mnist_Q)\n",
    "print(classification_report(y_test_5, predQ))\n"
   ]
  },
  {
   "cell_type": "code",
   "execution_count": null,
   "metadata": {
    "collapsed": true
   },
   "outputs": [],
   "source": [
    "conf_matrix_Q = confusion_matrix(y_test_5,predQ)\n",
    "print (cm_mnist_Q)"
   ]
  },
  {
   "cell_type": "code",
   "execution_count": null,
   "metadata": {
    "collapsed": true
   },
   "outputs": [],
   "source": []
  }
 ],
 "metadata": {
  "kernelspec": {
   "display_name": "Python 3",
   "language": "python",
   "name": "python3"
  },
  "language_info": {
   "codemirror_mode": {
    "name": "ipython",
    "version": 3
   },
   "file_extension": ".py",
   "mimetype": "text/x-python",
   "name": "python",
   "nbconvert_exporter": "python",
   "pygments_lexer": "ipython3",
   "version": "3.6.4"
  }
 },
 "nbformat": 4,
 "nbformat_minor": 2
}
